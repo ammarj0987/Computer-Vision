{
  "nbformat": 4,
  "nbformat_minor": 0,
  "metadata": {
    "colab": {
      "name": "final.ipynb",
      "provenance": [],
      "collapsed_sections": []
    },
    "kernelspec": {
      "name": "python3",
      "display_name": "Python 3"
    },
    "language_info": {
      "name": "python"
    },
    "accelerator": "GPU"
  },
  "cells": [
    {
      "cell_type": "markdown",
      "source": [
        "import pytorch"
      ],
      "metadata": {
        "id": "l_bSFa630n_Q"
      }
    },
    {
      "cell_type": "code",
      "execution_count": null,
      "metadata": {
        "id": "dZGp6Jrw0arL"
      },
      "outputs": [],
      "source": [
        "import torch\n",
        "import torchvision \n",
        "import torchvision.transforms as transforms\n",
        "import torch.nn as nn\n",
        "import torch.nn.functional as F\n",
        "import torch.optim as optim\n",
        "\n",
        "import matplotlib.pyplot as plt\n",
        "import numpy as np\n",
        "import scipy.io"
      ]
    },
    {
      "cell_type": "markdown",
      "source": [
        "make sure we are connected to gpu"
      ],
      "metadata": {
        "id": "RnlqIe5i0zzG"
      }
    },
    {
      "cell_type": "code",
      "source": [
        "device = torch.device(\"cuda:0\" if torch.cuda.is_available() else \"cpu\")\n",
        "print(device)"
      ],
      "metadata": {
        "colab": {
          "base_uri": "https://localhost:8080/"
        },
        "id": "XBOWGxR60yBn",
        "outputId": "8de18c37-6345-4fb1-d4f6-080c714c40be"
      },
      "execution_count": null,
      "outputs": [
        {
          "output_type": "stream",
          "name": "stdout",
          "text": [
            "cuda:0\n"
          ]
        }
      ]
    },
    {
      "cell_type": "markdown",
      "source": [
        "Get Data from the StanfordCars dataset"
      ],
      "metadata": {
        "id": "99mZ202dRbHK"
      }
    },
    {
      "cell_type": "code",
      "source": [
        "def get_stanfordCars_data():\n",
        "    transform_train = transforms.Compose([\n",
        "        transforms.Resize((256, 256)),\n",
        "        # transforms.RandomCrop(256, padding=4, padding_mode='edge'),\n",
        "        transforms.RandomHorizontalFlip(),\n",
        "        transforms.ToTensor(),\n",
        "    ])\n",
        "    \n",
        "    transform_test = transforms.Compose([\n",
        "        transforms.Resize((256, 256)),\n",
        "        # transforms.RandomCrop(256, padding=4, padding_mode='edge'),\n",
        "        transforms.ToTensor(),\n",
        "    ])\n",
        "    trainset = torchvision.datasets.StanfordCars(root='./data', split='train', download=True, transform=transform_train)\n",
        "    trainloader = torch.utils.data.DataLoader(trainset, batch_size=32, shuffle=True, num_workers=2)\n",
        "\n",
        "    testset = torchvision.datasets.StanfordCars(root='./data', split='test', download=True, transform=transform_test)\n",
        "    testloader = torch.utils.data.DataLoader(testset, batch_size=32, shuffle=False, num_workers=2)\n",
        "\n",
        "    temp = scipy.io.loadmat('./data/stanford_cars/devkit/cars_meta.mat')\n",
        "    temp = temp['class_names']\n",
        "    n = temp.size\n",
        "    classes = np.empty(shape=[n], dtype=object)\n",
        "    for i in range(n):\n",
        "      classes[i] = temp[0,i][0]\n",
        "    return {'train':trainloader, 'test':testloader, 'classes':classes}\n",
        "\n",
        "data = get_stanfordCars_data()"
      ],
      "metadata": {
        "id": "QV3iF3_EAm84"
      },
      "execution_count": null,
      "outputs": []
    },
    {
      "cell_type": "code",
      "source": [
        "print(data['train'].__dict__)\n",
        "print(data['test'].__dict__)\n",
        "print(len(data['classes']))"
      ],
      "metadata": {
        "id": "ubEFLmQRaVDU"
      },
      "execution_count": null,
      "outputs": []
    },
    {
      "cell_type": "code",
      "source": [
        "dataiter = iter(data['train'])\n",
        "images, labels = dataiter.next()\n",
        "# images = images[:8]\n",
        "\n",
        "def imshow(img):\n",
        "    npimg = img.numpy()\n",
        "    plt.imshow(np.transpose(npimg, (1, 2, 0)))\n",
        "    plt.show()\n",
        "\n",
        "# show images\n",
        "imshow(torchvision.utils.make_grid(images))\n",
        "# print labels\n",
        "print(\"Labels:\" + ', '.join('%9s' % data['classes'][labels[j]] for j in range(8)))\n",
        "\n",
        "flat = torch.flatten(images, 1)\n",
        "print(images.size())\n",
        "print(flat.size())"
      ],
      "metadata": {
        "id": "wbDOKtpUTC_Y"
      },
      "execution_count": null,
      "outputs": []
    },
    {
      "cell_type": "markdown",
      "source": [
        "We will build a basic neural netword with SimpleNet"
      ],
      "metadata": {
        "id": "DJuoVw7O3LDo"
      }
    },
    {
      "cell_type": "code",
      "source": [
        "class SimpleNet(nn.Module):\n",
        "  def __init__(self, inputs=196608, hidden=512, outputs=196):\n",
        "    super(SimpleNet, self).__init__()\n",
        "    self.fc1 = nn.Linear(inputs, hidden)\n",
        "    self.fc2 = nn.Linear(hidden, outputs)\n",
        "\n",
        "  def forward(self, x):\n",
        "    x = torch.flatten(x, 1)\n",
        "    x = self.fc1(x)\n",
        "    x = F.relu(x)\n",
        "    x = self.fc2(x)\n",
        "    return x"
      ],
      "metadata": {
        "id": "m9X9F0aG3gV7"
      },
      "execution_count": null,
      "outputs": []
    },
    {
      "cell_type": "markdown",
      "source": [
        "We will not build a CNN"
      ],
      "metadata": {
        "id": "TMnyYh0PR3Ir"
      }
    },
    {
      "cell_type": "code",
      "source": [
        "class ConvNet(nn.Module):\n",
        "    def __init__(self):\n",
        "        super(ConvNet, self).__init__() # https://pytorch.org/docs/stable/generated/torch.nn.Conv2d.html\n",
        "        # Input 256x256x3 image\n",
        "        # 16 filters\n",
        "        # 3x3 filter size (they also have 3 channels)\n",
        "        # stride 2 (downsampling by factor of 2)\n",
        "        # Output image: 128x128x16\n",
        "        self.conv1 = nn.Conv2d(3, 16, 3, stride=2, padding=1)\n",
        "\n",
        "        # Input 128x128x16 image\n",
        "        # 32 filters\n",
        "        # 3x3x16 filter size (they also have 16 channels)\n",
        "        # stride 2 (downsampling by factor of 2)\n",
        "        # Output image: 64x64x32\n",
        "        self.conv2 = nn.Conv2d(16, 32, 3, stride=2, padding=1)\n",
        "\n",
        "\n",
        "        # Exercise left to the reader\n",
        "        # Output image: 32x32x64 -> 65536 neurons\n",
        "        self.conv3 = nn.Conv2d(32, 64, 3, stride=2, padding=1)\n",
        "\n",
        "        self.fc1 = nn.Linear(65536, 196)\n",
        "\n",
        "    def forward(self, x):\n",
        "        x = self.conv1(x)\n",
        "        x = F.relu(x)\n",
        "        x = self.conv2(x)\n",
        "        x = F.relu(x)\n",
        "        x = self.conv3(x)\n",
        "        x = F.relu(x)\n",
        "        x = torch.flatten(x, 1)\n",
        "        x = self.fc1(x)\n",
        "        return x"
      ],
      "metadata": {
        "id": "lqQ5TdVtR7lO"
      },
      "execution_count": null,
      "outputs": []
    },
    {
      "cell_type": "markdown",
      "source": [
        "Use Bacth Normalization to make training faster"
      ],
      "metadata": {
        "id": "HcpkyHjonARU"
      }
    },
    {
      "cell_type": "code",
      "source": [
        "class Darknet64(nn.Module):\n",
        "    def __init__(self):\n",
        "        super(Darknet64, self).__init__() # https://pytorch.org/docs/stable/generated/torch.nn.Conv2d.html\n",
        "        self.conv1 = nn.Conv2d(3, 16, 3, padding=1, bias=False)\n",
        "        self.bn1 = nn.BatchNorm2d(16)\n",
        "\n",
        "        self.conv2 = nn.Conv2d(16, 32, 3, padding=1, bias=False)\n",
        "        self.bn2 = nn.BatchNorm2d(32)\n",
        "\n",
        "        self.conv3 = nn.Conv2d(32, 64, 3, padding=1, bias=False)\n",
        "        self.bn3 = nn.BatchNorm2d(64)\n",
        "\n",
        "        self.conv4 = nn.Conv2d(64, 128, 3, padding=1, bias=False)\n",
        "        self.bn4 = nn.BatchNorm2d(128)\n",
        "\n",
        "        self.conv5 = nn.Conv2d(128, 256, 3, padding=1, bias=False)\n",
        "        self.bn5 = nn.BatchNorm2d(256)\n",
        "\n",
        "        self.fc10 = nn.Linear(256, 196)\n",
        "\n",
        "    def forward(self, x):\n",
        "        x = F.max_pool2d(F.relu(self.bn1(self.conv1(x))), kernel_size=2, stride=2)\n",
        "        x = F.max_pool2d(F.relu(self.bn2(self.conv2(x))), kernel_size=2, stride=2)\n",
        "        x = F.max_pool2d(F.relu(self.bn3(self.conv3(x))), kernel_size=2, stride=2)\n",
        "        x = F.max_pool2d(F.relu(self.bn4(self.conv4(x))), kernel_size=2, stride=2)\n",
        "        x = F.max_pool2d(F.relu(self.bn5(self.conv5(x))), kernel_size=2, stride=2)\n",
        "        x = F.adaptive_avg_pool2d(x, 1)\n",
        "        x = torch.flatten(x, 1)\n",
        "        x = self.fc10(x)\n",
        "        return x"
      ],
      "metadata": {
        "id": "GTcAGrJgv_ZQ"
      },
      "execution_count": null,
      "outputs": []
    },
    {
      "cell_type": "markdown",
      "source": [
        "Training function"
      ],
      "metadata": {
        "id": "oaEf-syiL8uP"
      }
    },
    {
      "cell_type": "code",
      "source": [
        "def train(net, dataloader, epochs=10, lr=0.01, momentum=0.9, decay=0.0, verbose=1):\n",
        "  net.to(device)\n",
        "  losses = []\n",
        "  criterion = nn.CrossEntropyLoss()\n",
        "  optimizer = optim.SGD(net.parameters(), lr=lr, momentum=momentum, weight_decay=decay)\n",
        "  for epoch in range(epochs):\n",
        "    sum_loss = 0.0\n",
        "    for i, batch in enumerate(dataloader, 0):\n",
        "        # get the inputs; data is a list of [inputs, labels]\n",
        "        inputs, labels = batch[0].to(device), batch[1].to(device)\n",
        "\n",
        "        # zero the parameter gradients\n",
        "        optimizer.zero_grad()\n",
        "\n",
        "        # forward + backward + optimize \n",
        "        outputs = net(inputs)\n",
        "        loss = criterion(outputs, labels)\n",
        "        loss.backward()  # autograd magic, computes all the partial derivatives\n",
        "        optimizer.step() # takes a step in gradient direction\n",
        "\n",
        "        # print statistics\n",
        "        losses.append(loss.item())\n",
        "        sum_loss += loss.item()\n",
        "        if i % 100 == 99:    # print every 100 mini-batches\n",
        "            if verbose:\n",
        "              print('[%d, %5d] loss: %.3f' %\n",
        "                  (epoch + 1, i + 1, sum_loss / 100))\n",
        "            sum_loss = 0.0\n",
        "  return losses"
      ],
      "metadata": {
        "id": "FPzbiLAhL-tq"
      },
      "execution_count": null,
      "outputs": []
    },
    {
      "cell_type": "markdown",
      "source": [
        "Training our model with SimpleNet"
      ],
      "metadata": {
        "id": "ynPaXb4J7HJ5"
      }
    },
    {
      "cell_type": "code",
      "source": [
        "simple_net = SimpleNet()\n",
        "simple_losses = train(simple_net, data['train'], epochs=5)"
      ],
      "metadata": {
        "id": "391ZgIBiWfWd"
      },
      "execution_count": null,
      "outputs": []
    },
    {
      "cell_type": "markdown",
      "source": [
        "Training with CNN"
      ],
      "metadata": {
        "id": "fP2gQCZB4P86"
      }
    },
    {
      "cell_type": "code",
      "source": [
        "conv_net = ConvNet()\n",
        "conv_losses = train(conv_net, data['train'])"
      ],
      "metadata": {
        "colab": {
          "base_uri": "https://localhost:8080/"
        },
        "id": "NxEcmSTy4R64",
        "outputId": "bcadd806-4de0-4233-8399-d4ff4f225287"
      },
      "execution_count": null,
      "outputs": [
        {
          "output_type": "stream",
          "name": "stdout",
          "text": [
            "[1,   100] loss: 5.282\n",
            "[1,   200] loss: 5.277\n",
            "[2,   100] loss: 5.188\n",
            "[2,   200] loss: 5.164\n",
            "[3,   100] loss: 4.978\n",
            "[3,   200] loss: 4.996\n",
            "[4,   100] loss: 4.731\n",
            "[4,   200] loss: 4.768\n",
            "[5,   100] loss: 4.070\n",
            "[5,   200] loss: 4.247\n",
            "[6,   100] loss: 2.466\n",
            "[6,   200] loss: 2.773\n",
            "[7,   100] loss: 1.486\n",
            "[7,   200] loss: 1.575\n",
            "[8,   100] loss: 0.828\n",
            "[8,   200] loss: 0.962\n",
            "[9,   100] loss: 0.510\n",
            "[9,   200] loss: 0.493\n",
            "[10,   100] loss: 0.264\n",
            "[10,   200] loss: 0.317\n"
          ]
        }
      ]
    },
    {
      "cell_type": "markdown",
      "source": [
        "Training with darknet"
      ],
      "metadata": {
        "id": "NP3Lx5DKoASK"
      }
    },
    {
      "cell_type": "code",
      "source": [
        "dark_net = Darknet64()\n",
        "dark_losses = train(dark_net, data['train'])"
      ],
      "metadata": {
        "colab": {
          "base_uri": "https://localhost:8080/"
        },
        "id": "3Iz_SC77oEnI",
        "outputId": "5ae33c4b-8c2a-4f95-d548-6b1c41f81f9c"
      },
      "execution_count": null,
      "outputs": [
        {
          "output_type": "stream",
          "name": "stdout",
          "text": [
            "[1,   100] loss: 5.307\n",
            "[1,   200] loss: 5.223\n",
            "[2,   100] loss: 5.142\n",
            "[2,   200] loss: 5.145\n",
            "[3,   100] loss: 5.076\n",
            "[3,   200] loss: 5.098\n",
            "[4,   100] loss: 5.023\n",
            "[4,   200] loss: 5.019\n",
            "[5,   100] loss: 4.949\n",
            "[5,   200] loss: 4.954\n",
            "[6,   100] loss: 4.891\n",
            "[6,   200] loss: 4.874\n",
            "[7,   100] loss: 4.812\n",
            "[7,   200] loss: 4.831\n",
            "[8,   100] loss: 4.766\n",
            "[8,   200] loss: 4.757\n",
            "[9,   100] loss: 4.656\n",
            "[9,   200] loss: 4.701\n",
            "[10,   100] loss: 4.550\n",
            "[10,   200] loss: 4.623\n"
          ]
        }
      ]
    },
    {
      "cell_type": "markdown",
      "source": [
        "Training with resnet"
      ],
      "metadata": {
        "id": "U9c1hVrEZ8fE"
      }
    },
    {
      "cell_type": "code",
      "source": [
        "resnet = torch.hub.load('pytorch/vision:v0.6.0', 'resnet18', pretrained=True)\n",
        "resnet.fc = nn.Linear(512, 196) # Reinitializes final layer, assigns random weights\n",
        "resnet_losses = train(resnet, data['train'])"
      ],
      "metadata": {
        "colab": {
          "base_uri": "https://localhost:8080/"
        },
        "id": "PTkGXJRHZ-rw",
        "outputId": "c88aaffd-e9c7-478a-86b0-f750e5386c3e"
      },
      "execution_count": null,
      "outputs": [
        {
          "output_type": "stream",
          "name": "stderr",
          "text": [
            "Using cache found in /root/.cache/torch/hub/pytorch_vision_v0.6.0\n"
          ]
        },
        {
          "output_type": "stream",
          "name": "stdout",
          "text": [
            "[1,   100] loss: 4.921\n",
            "[1,   200] loss: 3.374\n",
            "[2,   100] loss: 1.703\n",
            "[2,   200] loss: 1.405\n",
            "[3,   100] loss: 0.748\n",
            "[3,   200] loss: 0.708\n",
            "[4,   100] loss: 0.393\n",
            "[4,   200] loss: 0.381\n",
            "[5,   100] loss: 0.227\n",
            "[5,   200] loss: 0.227\n",
            "[6,   100] loss: 0.117\n",
            "[6,   200] loss: 0.121\n",
            "[7,   100] loss: 0.067\n",
            "[7,   200] loss: 0.061\n",
            "[8,   100] loss: 0.049\n",
            "[8,   200] loss: 0.051\n",
            "[9,   100] loss: 0.032\n",
            "[9,   200] loss: 0.030\n",
            "[10,   100] loss: 0.024\n",
            "[10,   200] loss: 0.021\n"
          ]
        }
      ]
    },
    {
      "cell_type": "markdown",
      "source": [
        "Plot graph to compare losses"
      ],
      "metadata": {
        "id": "UGaRZQxqEQu2"
      }
    },
    {
      "cell_type": "code",
      "source": [
        "def smooth(x, size):\n",
        "  return np.convolve(x, np.ones(size)/size, mode='valid')\n",
        "\n",
        "plt.plot(smooth(simple_losses,50), 'r-')\n",
        "plt.plot(smooth(conv_losses,50), 'b-')\n",
        "plt.plot(smooth(dark_losses,50), 'k-')\n",
        "plt.plot(smooth(resnet_losses,50), 'g-')"
      ],
      "metadata": {
        "colab": {
          "base_uri": "https://localhost:8080/",
          "height": 282
        },
        "id": "9q0yrKDiETSQ",
        "outputId": "41d9565b-df23-40c9-d35e-89599b81e67b"
      },
      "execution_count": null,
      "outputs": [
        {
          "output_type": "execute_result",
          "data": {
            "text/plain": [
              "[<matplotlib.lines.Line2D at 0x7fd583b91790>]"
            ]
          },
          "metadata": {},
          "execution_count": 76
        },
        {
          "output_type": "display_data",
          "data": {
            "text/plain": [
              "<Figure size 432x288 with 1 Axes>"
            ],
            "image/png": "[encoded data removed]"
          },
          "metadata": {
            "needs_background": "light"
          }
        }
      ]
    },
    {
      "cell_type": "markdown",
      "source": [
        "Testing the network"
      ],
      "metadata": {
        "id": "r60jRSQP7jgN"
      }
    },
    {
      "cell_type": "code",
      "source": [
        "dataiter = iter(data['test'])\n",
        "images, labels = dataiter.next();\n",
        "\n",
        "images = images[:4]\n",
        "labels = labels[:4]\n",
        "\n",
        "# print images\n",
        "imshow(torchvision.utils.make_grid(images))\n",
        "print('GroundTruth: ', ' '.join('%5s' % data['classes'][labels[j]] for j in range(4)))\n",
        "outputs = resnet(images.to(device))\n",
        "_, predicted = torch.max(outputs, 1)\n",
        "\n",
        "print('Predicted: ', ' '.join('%5s' % data['classes'][predicted[j]]\n",
        "                              for j in range(4)))"
      ],
      "metadata": {
        "id": "AOZLySMy7i63"
      },
      "execution_count": null,
      "outputs": []
    },
    {
      "cell_type": "code",
      "source": [
        "def accuracy(net, dataloader):\n",
        "  correct = 0\n",
        "  total = 0\n",
        "  with torch.no_grad():\n",
        "      for batch in dataloader:\n",
        "          images, labels = batch[0].to(device), batch[1].to(device)\n",
        "          outputs = net(images)\n",
        "          _, predicted = torch.max(outputs.data, 1)\n",
        "          total += labels.size(0)\n",
        "          correct += (predicted == labels).sum().item()\n",
        "  return correct/total"
      ],
      "metadata": {
        "id": "taTRyTwC8YOQ"
      },
      "execution_count": null,
      "outputs": []
    },
    {
      "cell_type": "markdown",
      "source": [
        "Comparing the accuracy for our testing and training model."
      ],
      "metadata": {
        "id": "yBRqZdpw8yHE"
      }
    },
    {
      "cell_type": "code",
      "source": [
        "print(\"Current accuracy: %f\" % accuracy(simple_net, data['train']))\n",
        "print(\"Current accuracy: %f\" % accuracy(simple_net, data['test']))\n",
        "\n",
        "print(\"Training accuracy: %f\" % accuracy(conv_net, data['train']))\n",
        "print(\"Testing accuracy: %f\" % accuracy(conv_net, data['test']))\n",
        "\n",
        "print(\"Training accuracy: %f\" % accuracy(dark_net, data['train']))\n",
        "print(\"Testing accuracy: %f\" % accuracy(dark_net, data['test']))\n",
        "\n",
        "print(\"Training accuracy: %f\" % accuracy(resnet, data['train']))\n",
        "print(\"Testing accuracy: %f\" % accuracy(resnet, data['test']))"
      ],
      "metadata": {
        "id": "Xd-WkP7d8efk",
        "colab": {
          "base_uri": "https://localhost:8080/"
        },
        "outputId": "41582897-a494-4401-b5ad-2fb5c69838d4"
      },
      "execution_count": null,
      "outputs": [
        {
          "output_type": "stream",
          "name": "stdout",
          "text": [
            "Training accuracy: 0.971881\n",
            "Testing accuracy: 0.027609\n",
            "Training accuracy: 0.071586\n",
            "Testing accuracy: 0.050989\n",
            "Training accuracy: 0.996562\n",
            "Testing accuracy: 0.819550\n"
          ]
        }
      ]
    }
  ]
}